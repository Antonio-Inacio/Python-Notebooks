{
 "cells": [
  {
   "cell_type": "markdown",
   "id": "b0916004",
   "metadata": {},
   "source": [
    "0 1 2 3 4 5 6 7 8 9 10 11 12 13\n",
    "l i r a @ g m a i l .  c  o  m\n",
    "\n",
    "Pegar um item de uma string: texto[indice]\n",
    "Pegar o tamanho de um texto: len(texto)"
   ]
  },
  {
   "cell_type": "code",
   "execution_count": 4,
   "id": "66335277",
   "metadata": {},
   "outputs": [
    {
     "name": "stdout",
     "output_type": "stream",
     "text": [
      "16\n",
      "@\n"
     ]
    }
   ],
   "source": [
    "email = 'marcos@gmail.com'\n",
    "nome = 'Antonio Marcos'\n",
    "\n",
    "print(len(email))\n",
    "print(email[6])"
   ]
  }
 ],
 "metadata": {
  "kernelspec": {
   "display_name": "Python 3",
   "language": "python",
   "name": "python3"
  },
  "language_info": {
   "codemirror_mode": {
    "name": "ipython",
    "version": 3
   },
   "file_extension": ".py",
   "mimetype": "text/x-python",
   "name": "python",
   "nbconvert_exporter": "python",
   "pygments_lexer": "ipython3",
   "version": "3.12.6"
  }
 },
 "nbformat": 4,
 "nbformat_minor": 5
}
